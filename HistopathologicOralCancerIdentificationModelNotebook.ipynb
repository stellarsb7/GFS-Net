{
  "cells": [
    {
      "cell_type": "markdown",
      "metadata": {
        "id": "view-in-github",
        "colab_type": "text"
      },
      "source": [
        "<a href=\"https://colab.research.google.com/github/stellarsb7/GFS-Net/blob/main/HistopathologicOralCancerIdentificationModelNotebook.ipynb\" target=\"_parent\"><img src=\"https://colab.research.google.com/assets/colab-badge.svg\" alt=\"Open In Colab\"/></a>"
      ]
    },
    {
      "cell_type": "code",
      "execution_count": null,
      "metadata": {
        "id": "0uIcl8Ssz-tY",
        "collapsed": true
      },
      "outputs": [],
      "source": [
        "! pip install kaggle\n",
        "\n",
        "# from google.colab import drive\n",
        "# drive.mount('/content/drive')\n",
        "\n",
        "! mkdir ~/.kaggle\n",
        "\n",
        "# !cp /content/drive/MyDrive/ColabNotebooks/Kaggle_API/kaggle.json ~/.kaggle/kaggle.json\n",
        "# !cp /content/drive/MyDrive/Colab_Notebooks/Kaggle_JSON/kaggle.json ~/.kaggle/kaggle.json\n",
        "\n"
      ]
    },
    {
      "cell_type": "code",
      "execution_count": null,
      "metadata": {
        "id": "cbWT8QM10hwj"
      },
      "outputs": [],
      "source": [
        "# @title\n",
        "# ! unzip /content/oral-cancer-dataset2-split-and-augmented.zip\n",
        "# ! unzip /content/drive/MyDrive/KaggleData/histo_oral_cancer_full.zip"
      ]
    },
    {
      "cell_type": "code",
      "execution_count": null,
      "metadata": {
        "id": "baOIx0AgfIqt"
      },
      "outputs": [],
      "source": [
        "from google.colab import drive\n",
        "drive.mount('/content/drive')"
      ]
    },
    {
      "cell_type": "code",
      "source": [
        "! unzip /content/drive/MyDrive/KaggleData/oralCancer2AugmentedSplit.zip"
      ],
      "metadata": {
        "id": "c3PPzzacv2Bz"
      },
      "execution_count": null,
      "outputs": []
    },
    {
      "cell_type": "code",
      "execution_count": null,
      "metadata": {
        "id": "8jMZH7cHLe1x"
      },
      "outputs": [],
      "source": []
    },
    {
      "cell_type": "code",
      "execution_count": null,
      "metadata": {
        "id": "DVcMgq6hW0rP"
      },
      "outputs": [],
      "source": [
        "! cp /content/kaggle.json  ~/.kaggle/kaggle.json"
      ]
    },
    {
      "cell_type": "code",
      "execution_count": null,
      "metadata": {
        "id": "A8rAg64YW1j9"
      },
      "outputs": [],
      "source": [
        "! chmod 600   ~/.kaggle/kaggle.json\n",
        "\n",
        "# ! kaggle datasets download -d sumanghosh1/oral-cancer-dataset2-split-and-augmented\n",
        "! kaggle datasets download -d ashenafifasilkebede/histopathologic-oral-cancer-detection-using-cnns"
      ]
    },
    {
      "cell_type": "code",
      "source": [],
      "metadata": {
        "id": "-LxUqrlsCql1"
      },
      "execution_count": null,
      "outputs": []
    },
    {
      "cell_type": "code",
      "execution_count": null,
      "metadata": {
        "id": "-oy1WMBrS2aZ"
      },
      "outputs": [],
      "source": []
    },
    {
      "cell_type": "code",
      "execution_count": null,
      "metadata": {
        "id": "TdZel9Bz0iWU"
      },
      "outputs": [],
      "source": [
        "import matplotlib.pyplot as plt\n",
        "from keras.models import Sequential\n",
        "from keras.layers import Conv2D, MaxPooling2D\n",
        "from keras.layers import Activation, Dropout, Flatten, Dense\n",
        "import tensorflow as tf\n",
        "from keras.metrics import Accuracy\n",
        "from tensorflow.keras.layers import GlobalAveragePooling2D\n",
        "from tensorflow.keras.models import Model\n",
        "from tensorflow.keras.callbacks import ModelCheckpoint, EarlyStopping\n",
        "\n",
        "from tensorflow import keras\n",
        "from tensorflow.keras.utils import plot_model\n",
        "#from keras import backend as K\n",
        "\n",
        "import os\n",
        "import cv2\n",
        "from PIL import Image\n",
        "import numpy as np\n",
        "from keras.utils import to_categorical\n",
        "\n",
        "!pip install Py_FS\n",
        "!pip install ReliefF\n",
        "from  Py_FS.evaluation.evaluate import evaluate"
      ]
    },
    {
      "cell_type": "code",
      "execution_count": null,
      "metadata": {
        "id": "8ejc2yfoUVkC"
      },
      "outputs": [],
      "source": [
        "# @title Training Dataset\n",
        "image_directory =\"/content/Oral_Cancer_Split/Train_aug/\"\n",
        "SIZE = 224\n",
        "X_train = []\n",
        "y_train = []\n",
        "\n",
        "X_val=[]\n",
        "y_val=[]\n",
        "\n",
        "cancerous = os.listdir(os.path.join(image_directory,'cancer'))\n",
        "print(cancerous)\n",
        "for i, image_name in enumerate(cancerous):    #Remember enumerate method adds a counter and returns the enumerate object\n",
        "\n",
        "    if (image_name.split('.')[1] == 'jpg'):\n",
        "        path=os.path.join(image_directory,'cancer',image_name)\n",
        "        # print(path)\n",
        "        image = cv2.imread(path)\n",
        "        image = Image.fromarray(image, 'RGB')\n",
        "        image = image.resize((SIZE, SIZE))\n",
        "        if i<2130:\n",
        "          X_train.append(np.array(image))\n",
        "          y_train.append(1)\n",
        "        else:\n",
        "          X_val.append(np.array(image))\n",
        "          y_val.append(1)\n",
        "\n",
        "non_cancerous = os.listdir(os.path.join(image_directory,'non-cancer'))\n",
        "for i, image_name in enumerate(non_cancerous):    #Remember enumerate method adds a counter and returns the enumerate object\n",
        "\n",
        "    if (image_name.split('.')[1] == 'jpg'):\n",
        "        image = cv2.imread(os.path.join(image_directory,'non-cancer',image_name))\n",
        "        image = Image.fromarray(image, 'RGB')\n",
        "        image = image.resize((SIZE, SIZE))\n",
        "        if i<2130:\n",
        "          X_train.append(np.array(image))\n",
        "          y_train.append(0)\n",
        "        else:\n",
        "          X_val.append(np.array(image))\n",
        "          y_val.append(0)\n",
        "\n",
        "\n",
        "# image_directory = '/content/val/'\n",
        "# SIZE = 224\n",
        "\n",
        "# cancerous = os.listdir(image_directory + 'OSCC/')\n",
        "# for i, image_name in enumerate(cancerous):    #Remember enumerate method adds a counter and returns the enumerate object\n",
        "\n",
        "#     if (image_name.split('.')[1] == 'jpg'):\n",
        "#         image = cv2.imread(image_directory + 'OSCC/' + image_name)\n",
        "#         image = Image.fromarray(image, 'RGB')\n",
        "#         image = image.resize((SIZE, SIZE))\n",
        "#         X_train.append(np.array(image))\n",
        "#         y_train.append(1)\n",
        "\n",
        "# non_cancerous = os.listdir(image_directory + 'Normal/')\n",
        "# for i, image_name in enumerate(non_cancerous):    #Remember enumerate method adds a counter and returns the enumerate object\n",
        "\n",
        "#     if (image_name.split('.')[1] == 'jpg'):\n",
        "#         image = cv2.imread(image_directory + 'Normal/' + image_name)\n",
        "#         image = Image.fromarray(image, 'RGB')\n",
        "#         image = image.resize((SIZE, SIZE))\n",
        "#         X_train.append(np.array(image))\n",
        "#         y_train.append(0)\n",
        "\n",
        "print(len(X_train))\n",
        "print(len(y_train))\n",
        "\n",
        "print(len(X_val))\n",
        "print(len(y_val))"
      ]
    },
    {
      "cell_type": "code",
      "source": [
        "image_directory =\"/content/Oral_Cancer_Split/Test/\"\n",
        "SIZE = 224\n",
        "X_test = []\n",
        "y_test = []\n",
        "\n",
        "cancerous = os.listdir(os.path.join(image_directory,'cancer'))\n",
        "print(cancerous)\n",
        "for i, image_name in enumerate(cancerous):    #Remember enumerate method adds a counter and returns the enumerate object\n",
        "\n",
        "    # if (image_name.split('.')[1] == 'jpg' or image_name.split('.')[1] == 'png' or image_name.split('.')[1] == 'jpeg'):\n",
        "    path=os.path.join(image_directory,'cancer',image_name)\n",
        "    # print(path)\n",
        "    image = cv2.imread(path)\n",
        "    image = Image.fromarray(image, 'RGB')\n",
        "    image = image.resize((SIZE, SIZE))\n",
        "    X_test.append(np.array(image))\n",
        "    y_test.append(1)\n",
        "\n",
        "non_cancerous = os.listdir(os.path.join(image_directory,'non-cancer'))\n",
        "for i, image_name in enumerate(non_cancerous):    #Remember enumerate method adds a counter and returns the enumerate object\n",
        "\n",
        "    # if (image_name.split('.')[1] == 'jpg' or image_name.split('.')[1] == 'png' or image_name.split('.')[1] == 'jpeg'):\n",
        "    image = cv2.imread(os.path.join(image_directory,'non-cancer',image_name))\n",
        "    image = Image.fromarray(image, 'RGB')\n",
        "    image = image.resize((SIZE, SIZE))\n",
        "    X_test.append(np.array(image))\n",
        "    y_test.append(0)\n",
        "\n",
        "print(len(X_test))\n",
        "print(len(y_test))"
      ],
      "metadata": {
        "id": "dXyxDN0WxKC6"
      },
      "execution_count": null,
      "outputs": []
    },
    {
      "cell_type": "code",
      "execution_count": null,
      "metadata": {
        "id": "3wvQ00jHOtay"
      },
      "outputs": [],
      "source": [
        "# #@title Training Dataset\n",
        "# image_directory =\"/content/train/\"\n",
        "# SIZE = 224\n",
        "# X_train = []\n",
        "# y_train = []\n",
        "\n",
        "# cancerous = os.listdir(os.path.join(image_directory,'OSCC'))\n",
        "# for i, image_name in enumerate(cancerous):    #Remember enumerate method adds a counter and returns the enumerate object\n",
        "\n",
        "#     if (image_name.split('.')[1] == 'jpg'):\n",
        "#         path=os.path.join(image_directory,'OSCC',image_name)\n",
        "#         # print(path)\n",
        "#         image = cv2.imread(path)\n",
        "#         image = Image.fromarray(image, 'RGB')\n",
        "#         image = image.resize((SIZE, SIZE))\n",
        "#         X_train.append(np.array(image))\n",
        "#         y_train.append(1)\n",
        "\n",
        "# non_cancerous = os.listdir(os.path.join(image_directory,'Normal'))\n",
        "# for i, image_name in enumerate(non_cancerous):    #Remember enumerate method adds a counter and returns the enumerate object\n",
        "\n",
        "#     if (image_name.split('.')[1] == 'jpg'):\n",
        "#         image = cv2.imread(os.path.join(image_directory,'Normal',image_name))\n",
        "#         image = Image.fromarray(image, 'RGB')\n",
        "#         image = image.resize((SIZE, SIZE))\n",
        "#         X_train.append(np.array(image))\n",
        "#         y_train.append(0)\n",
        "\n",
        "\n",
        "# image_directory = '/content/val/'\n",
        "# SIZE = 224\n",
        "\n",
        "# cancerous = os.listdir(os.path.join(image_directory,'OSCC'))\n",
        "# for i, image_name in enumerate(cancerous):    #Remember enumerate method adds a counter and returns the enumerate object\n",
        "\n",
        "#     if (image_name.split('.')[1] == 'jpg'):\n",
        "#         image = cv2.imread(image_directory + 'OSCC/' + image_name)\n",
        "#         image = Image.fromarray(image, 'RGB')\n",
        "#         image = image.resize((SIZE, SIZE))\n",
        "#         X_train.append(np.array(image))\n",
        "#         y_train.append(1)\n",
        "\n",
        "# non_cancerous = os.listdir(os.path.join(image_directory,'Normal'))\n",
        "# # non_cancerous = os.listdir(image_directory + 'Normal/')\n",
        "# for i, image_name in enumerate(non_cancerous):    #Remember enumerate method adds a counter and returns the enumerate object\n",
        "\n",
        "#     if (image_name.split('.')[1] == 'jpg'):\n",
        "#         image = cv2.imread(image_directory + 'Normal/' + image_name)\n",
        "#         image = Image.fromarray(image, 'RGB')\n",
        "#         image = image.resize((SIZE, SIZE))\n",
        "#         X_train.append(np.array(image))\n",
        "#         y_train.append(0)\n",
        "\n",
        "# print(len(X_train))\n",
        "# print(len(y_train))"
      ]
    },
    {
      "cell_type": "code",
      "execution_count": null,
      "metadata": {
        "id": "fe7fVH4F0lkc"
      },
      "outputs": [],
      "source": [
        "# #@title Test Dataset\n",
        "# image_directory = '/content/test/'\n",
        "# SIZE = 224\n",
        "# X_test = []\n",
        "# y_test = []\n",
        "\n",
        "# cancerous = os.listdir(image_directory + 'OSCC/')\n",
        "# for i, image_name in enumerate(cancerous):    #Remember enumerate method adds a counter and returns the enumerate object\n",
        "\n",
        "#     if (image_name.split('.')[1] == 'jpg'):\n",
        "#         image = cv2.imread(image_directory + 'OSCC/' + image_name)\n",
        "#         image = Image.fromarray(image, 'RGB')\n",
        "#         image = image.resize((SIZE, SIZE))\n",
        "#         X_test.append(np.array(image))\n",
        "#         y_test.append(1)\n",
        "\n",
        "# non_cancerous = os.listdir(image_directory + 'Normal/')\n",
        "# for i, image_name in enumerate(non_cancerous):    #Remember enumerate method adds a counter and returns the enumerate object\n",
        "\n",
        "#     if (image_name.split('.')[1] == 'jpg'):\n",
        "#         image = cv2.imread(image_directory + 'Normal/' + image_name)\n",
        "#         image = Image.fromarray(image, 'RGB')\n",
        "#         image = image.resize((SIZE, SIZE))\n",
        "#         X_test.append(np.array(image))\n",
        "#         y_test.append(0)\n",
        "\n",
        "# print(len(X_test))\n",
        "# print(len(y_test))"
      ]
    },
    {
      "cell_type": "code",
      "source": [
        "X_val=[]\n",
        "y_val=[]\n",
        "\n",
        "X_train2=[]\n",
        "y_train2=[]\n",
        "\n",
        "for i in range(len(X_train)):\n",
        "  if i<240:\n",
        "    X_val.append(X_train[i])\n",
        "    y_val.append(y_train[i])\n",
        "  else:\n",
        "    X_train2.append(X_train[i])\n",
        "    y_train2.append(X_train[i])\n",
        "\n",
        "print(len(X_train2))\n",
        "print(len(X_val))"
      ],
      "metadata": {
        "id": "4FTbJYrG35VI"
      },
      "execution_count": null,
      "outputs": []
    },
    {
      "cell_type": "code",
      "execution_count": null,
      "metadata": {
        "id": "iKuC1mVy0s1X"
      },
      "outputs": [],
      "source": [
        "# final_model = tf.keras.models.load_model('/content/drive/MyDrive/ColabNotebooks/Oral Cancer models/Copy of Copy of bm_nasnet_9286.h5')\n",
        "final_model = tf.keras.models.load_model('/content/drive/MyDrive/Models/Oral-Cancer-Detection/Macro-Dataset2SplitAug/NoSqueeze.h5')\n",
        "final_model.summary()"
      ]
    },
    {
      "cell_type": "code",
      "source": [],
      "metadata": {
        "id": "HkDXKVR4RRN4"
      },
      "execution_count": null,
      "outputs": []
    },
    {
      "cell_type": "code",
      "source": [
        "INPUT_SHAPE = (224, 224, 3)\n",
        "model = tf.keras.applications.NASNetMobile(input_shape = INPUT_SHAPE, include_top=True, weights='imagenet')\n",
        "model.summary()"
      ],
      "metadata": {
        "id": "s3iOaeu5zUnY"
      },
      "execution_count": null,
      "outputs": []
    },
    {
      "cell_type": "code",
      "source": [
        "import tensorflow as tf\n",
        "from tensorflow.keras.layers import GlobalAveragePooling2D, Dense, Reshape, Multiply\n",
        "\n",
        "def squeeze_excite_block(input_tensor, ratio=16):\n",
        "    # Get the number of channels in the input tensor\n",
        "    channels = input_tensor.shape[-1]\n",
        "\n",
        "    # Squeeze: Global average pooling across the spatial dimensions\n",
        "    squeeze = GlobalAveragePooling2D()(input_tensor)  # Reduce to 1x1 spatial dimensions\n",
        "    squeeze = Reshape((1, 1, channels))(squeeze)     # Reshape to 1x1xC\n",
        "\n",
        "    # Excitation: Two fully connected (dense) layers with ReLU activation\n",
        "    excitation = Dense(channels // ratio, activation='relu')(squeeze)\n",
        "    excitation = Dense(channels, activation='sigmoid')(excitation)\n",
        "\n",
        "    # Reshape the excitation output to match the shape of the input tensor\n",
        "    excitation = Reshape((1, 1, channels))(excitation)\n",
        "\n",
        "    # Multiply the input tensor by the excitation output\n",
        "    scaled_input = Multiply()([input_tensor, excitation])\n",
        "\n",
        "    return scaled_input"
      ],
      "metadata": {
        "id": "ZemcjO7d0Y3X"
      },
      "execution_count": null,
      "outputs": []
    },
    {
      "cell_type": "code",
      "source": [
        "out=model.get_layer('activation_187').output\n",
        "# out=squeeze_excite_block(out)"
      ],
      "metadata": {
        "id": "Ozgv0Ffu1_jD"
      },
      "execution_count": null,
      "outputs": []
    },
    {
      "cell_type": "code",
      "source": [],
      "metadata": {
        "id": "nnrtwkgXh5LZ"
      },
      "execution_count": null,
      "outputs": []
    },
    {
      "cell_type": "code",
      "source": [
        "out=model.get_layer('activation_187').output\n",
        "out=squeeze_excite_block(out)"
      ],
      "metadata": {
        "id": "fhxP2_nS_QcC"
      },
      "execution_count": null,
      "outputs": []
    },
    {
      "cell_type": "code",
      "source": [
        "output=GlobalAveragePooling2D()(out)\n",
        "output=Dense(512,activation='relu')(output)\n",
        "output=Dense(64,activation='relu')(output)\n",
        "output=Dense(2,activation='sigmoid')(output)"
      ],
      "metadata": {
        "id": "-TOpP80i1_u9"
      },
      "execution_count": null,
      "outputs": []
    },
    {
      "cell_type": "code",
      "source": [
        "final_model=Model(inputs=model.input,outputs=output)"
      ],
      "metadata": {
        "id": "xR7ecDrazZyH"
      },
      "execution_count": null,
      "outputs": []
    },
    {
      "cell_type": "code",
      "source": [
        "final_model.summary()"
      ],
      "metadata": {
        "id": "p0fl10is2Io1"
      },
      "execution_count": null,
      "outputs": []
    },
    {
      "cell_type": "code",
      "source": [
        "plot_model(final_model, show_shapes = True, show_layer_names = True)"
      ],
      "metadata": {
        "id": "Gsl8ZU-n2iDj"
      },
      "execution_count": null,
      "outputs": []
    },
    {
      "cell_type": "code",
      "source": [
        "METRICS = ['accuracy',\n",
        "           tf.keras.metrics.Precision(),\n",
        "           tf.keras.metrics.Recall(),\n",
        "           tf.keras.metrics.F1Score()\n",
        "           ]\n",
        "checkpoint = ModelCheckpoint(filepath='/content/drive/MyDrive/Models/Oral-Cancer-Detection/Macro-Dataset2SplitAug/Squeeze.h5',\n",
        "                             monitor='val_accuracy',\n",
        "                             save_best_only=True,\n",
        "                             verbose=1)\n",
        "# final_model.compile(\n",
        "#     optimizer='adam',\n",
        "#     loss='categorical_crossentropy',\n",
        "#     metrics=METRICS\n",
        "# )\n",
        "lr_schedule = tf.keras.callbacks.ReduceLROnPlateau(factor=0.001, patience=5, min_lr=1e-6)\n",
        "history = final_model.fit(np.array(X_train),\n",
        "              to_categorical(np.array(y_train)),\n",
        "              batch_size = 8,\n",
        "              validation_data = (np.array(X_val), to_categorical(np.array(y_val))),\n",
        "              epochs = 20,\n",
        "              callbacks=[checkpoint,lr_schedule]\n",
        "              )"
      ],
      "metadata": {
        "id": "YrojmfFH219t"
      },
      "execution_count": null,
      "outputs": []
    },
    {
      "cell_type": "code",
      "execution_count": null,
      "metadata": {
        "id": "JvMiDMttLnIO"
      },
      "outputs": [],
      "source": [
        "final_model.evaluate(np.array(X_test), to_categorical(y_test))"
      ]
    },
    {
      "cell_type": "code",
      "source": [
        "lab = np.array(y_train)\n",
        "print(lab.shape)"
      ],
      "metadata": {
        "id": "UsHrVvfgcm2N"
      },
      "execution_count": null,
      "outputs": []
    },
    {
      "cell_type": "code",
      "source": [
        "lab = lab.reshape(lab.shape[0], 1)\n",
        "print(lab.shape)"
      ],
      "metadata": {
        "id": "CZ7hxCjBzFNL"
      },
      "execution_count": null,
      "outputs": []
    },
    {
      "cell_type": "code",
      "execution_count": null,
      "metadata": {
        "id": "7uIIhuZz5MkC"
      },
      "outputs": [],
      "source": [
        "predictions = final_model.get_layer('global_average_pooling2d_1').output\n",
        "model_feat = keras.Model(inputs = final_model.inputs ,outputs = predictions)\n",
        "features = model_feat.predict(np.array(X_train))\n",
        "print(features.shape)"
      ]
    },
    {
      "cell_type": "code",
      "source": [
        "train_X = model_feat.predict(np.array(X_train))\n",
        "train_Y = np.array(y_train)\n",
        "test_X = model_feat.predict(np.array(X_test))\n",
        "test_Y = np.array(y_test)"
      ],
      "metadata": {
        "id": "XPf_EzKcz_Z-"
      },
      "execution_count": null,
      "outputs": []
    },
    {
      "cell_type": "code",
      "execution_count": null,
      "metadata": {
        "id": "3CHS5dMv3mT6"
      },
      "outputs": [],
      "source": [
        "from google.colab import runtime\n",
        "runtime.unassign()"
      ]
    }
  ],
  "metadata": {
    "colab": {
      "provenance": [],
      "gpuType": "T4",
      "include_colab_link": true
    },
    "kernelspec": {
      "display_name": "Python 3",
      "name": "python3"
    },
    "language_info": {
      "name": "python"
    },
    "accelerator": "GPU"
  },
  "nbformat": 4,
  "nbformat_minor": 0
}