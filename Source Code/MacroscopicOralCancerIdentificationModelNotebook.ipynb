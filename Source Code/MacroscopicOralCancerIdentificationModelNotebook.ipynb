{
  "nbformat": 4,
  "nbformat_minor": 0,
  "metadata": {
    "colab": {
      "provenance": [],
      "gpuType": "T4",
      "include_colab_link": true
    },
    "kernelspec": {
      "name": "python3",
      "display_name": "Python 3"
    },
    "language_info": {
      "name": "python"
    },
    "accelerator": "GPU"
  },
  "cells": [
    {
      "cell_type": "markdown",
      "metadata": {
        "id": "view-in-github",
        "colab_type": "text"
      },
      "source": [
        "<a href=\"https://colab.research.google.com/github/stellarsb7/GFS-Net/blob/main/Source%20Code/MacroscopicOralCancerIdentificationModelNotebook.ipynb\" target=\"_parent\"><img src=\"https://colab.research.google.com/assets/colab-badge.svg\" alt=\"Open In Colab\"/></a>"
      ]
    },
    {
      "cell_type": "code",
      "execution_count": null,
      "metadata": {
        "id": "_bzZliiRiyDy"
      },
      "outputs": [],
      "source": [
        "from google.colab import drive\n",
        "drive.mount('/content/drive')\n",
        "\n",
        "! mkdir ~/.kaggle\n",
        "\n",
        "!cp /content/drive/MyDrive/kaggle.json ~/.kaggle/kaggle.json\n",
        "\n",
        "! chmod 600 ~/.kaggle/kaggle.json\n",
        "\n",
        "!kaggle datasets download -d sumanghosh1/oral-cancer-dataset2-split-and-augmented"
      ]
    },
    {
      "cell_type": "code",
      "source": [
        "! unzip oral-cancer-dataset2-split-and-augmented.zip"
      ],
      "metadata": {
        "id": "PumyytK0juJb"
      },
      "execution_count": null,
      "outputs": []
    },
    {
      "cell_type": "code",
      "source": [
        "import matplotlib.pyplot as plt\n",
        "from keras.models import Sequential\n",
        "from keras.layers import Conv2D, MaxPooling2D\n",
        "from keras.layers import Activation, Dropout, Flatten, Dense\n",
        "import tensorflow as tf\n",
        "from keras.metrics import Accuracy\n",
        "from tensorflow.keras.layers import GlobalAveragePooling2D\n",
        "from tensorflow.keras.models import Model\n",
        "from tensorflow.keras.callbacks import ModelCheckpoint, EarlyStopping\n",
        "\n",
        "from tensorflow import keras\n",
        "from tensorflow.keras.utils import plot_model\n",
        "#from keras import backend as K\n",
        "\n",
        "import os\n",
        "import cv2\n",
        "from PIL import Image\n",
        "import tensorflow as tf\n",
        "import numpy as np\n",
        "from keras.utils import to_categorical\n",
        "\n",
        "!pip install Py_FS\n",
        "!pip install ReliefF\n",
        "from  Py_FS.evaluation.evaluate import evaluate"
      ],
      "metadata": {
        "id": "XIPkgt8Ajxy7"
      },
      "execution_count": null,
      "outputs": []
    },
    {
      "cell_type": "code",
      "source": [
        "!pip install --upgrade tensorflow"
      ],
      "metadata": {
        "id": "BfGWtpB4uca0"
      },
      "execution_count": null,
      "outputs": []
    },
    {
      "cell_type": "code",
      "source": [
        "#@title Training Dataset\n",
        "image_directory =\"/content/Oral_Cancer_Split\"\n",
        "SIZE = 224\n",
        "X_train = []\n",
        "y_train = []\n",
        "\n",
        "cancerous = os.listdir(os.path.join(image_directory,''))\n",
        "for i, image_name in enumerate(cancerous):    #Remember enumerate method adds a counter and returns the enumerate object\n",
        "\n",
        "    if (image_name.split('.')[1] == 'jpg'):\n",
        "        path=os.path.join(image_directory,'OSCC',image_name)\n",
        "        # print(path)\n",
        "        image = cv2.imread(path)\n",
        "        image = Image.fromarray(image, 'RGB')\n",
        "        image = image.resize((SIZE, SIZE))\n",
        "        X_train.append(np.array(image))\n",
        "        y_train.append(1)\n",
        "\n",
        "non_cancerous = os.listdir(os.path.join(image_directory,'Normal'))\n",
        "for i, image_name in enumerate(non_cancerous):    #Remember enumerate method adds a counter and returns the enumerate object\n",
        "\n",
        "    if (image_name.split('.')[1] == 'jpg'):\n",
        "        image = cv2.imread(os.path.join(image_directory,'Normal',image_name))\n",
        "        image = Image.fromarray(image, 'RGB')\n",
        "        image = image.resize((SIZE, SIZE))\n",
        "        X_train.append(np.array(image))\n",
        "        y_train.append(0)\n",
        "\n",
        "\n",
        "image_directory = '/content/val/'\n",
        "SIZE = 224\n",
        "\n",
        "cancerous = os.listdir(os.path.join(image_directory , 'OSCC'))\n",
        "for i, image_name in enumerate(cancerous):    #Remember enumerate method adds a counter and returns the enumerate object\n",
        "\n",
        "    if (image_name.split('.')[1] == 'jpg'):\n",
        "        image = cv2.imread(os.path.join(image_directory,'OSCC',image_name))\n",
        "        image = Image.fromarray(image, 'RGB')\n",
        "        image = image.resize((SIZE, SIZE))\n",
        "        X_train.append(np.array(image))\n",
        "        y_train.append(1)\n",
        "\n",
        "non_cancerous = os.listdir(os.path.join(image_directory,'Normal'))\n",
        "for i, image_name in enumerate(non_cancerous):    #Remember enumerate method adds a counter and returns the enumerate object\n",
        "\n",
        "    if (image_name.split('.')[1] == 'jpg'):\n",
        "        image = cv2.imread(os.path.join(image_directory,'Normal',image_name))\n",
        "        image = Image.fromarray(image, 'RGB')\n",
        "        image = image.resize((SIZE, SIZE))\n",
        "        X_train.append(np.array(image))\n",
        "        y_train.append(0)\n",
        "\n",
        "\n",
        "print(len(X_train))\n",
        "print(len(y_train))"
      ],
      "metadata": {
        "id": "aqRPms2mj_Nr"
      },
      "execution_count": null,
      "outputs": []
    },
    {
      "cell_type": "code",
      "source": [
        "#@title Test Dataset\n",
        "image_directory = '/content/test/'\n",
        "SIZE = 224\n",
        "X_test = []\n",
        "y_test = []\n",
        "\n",
        "cancerous = os.listdir(os.path.join(image_directory , 'OSCC'))\n",
        "for i, image_name in enumerate(cancerous):    #Remember enumerate method adds a counter and returns the enumerate object\n",
        "\n",
        "    if (image_name.split('.')[1] == 'jpg'):\n",
        "        image = cv2.imread(os.path.join(image_directory,'OSCC',image_name))\n",
        "        image = Image.fromarray(image, 'RGB')\n",
        "        image = image.resize((SIZE, SIZE))\n",
        "        X_test.append(np.array(image))\n",
        "        y_test.append(1)\n",
        "\n",
        "non_cancerous = os.listdir(os.path.join(image_directory,'Normal'))\n",
        "for i, image_name in enumerate(non_cancerous):    #Remember enumerate method adds a counter and returns the enumerate object\n",
        "\n",
        "    if (image_name.split('.')[1] == 'jpg'):\n",
        "        image = cv2.imread(os.path.join(image_directory,'Normal',image_name))\n",
        "        image = Image.fromarray(image, 'RGB')\n",
        "        image = image.resize((SIZE, SIZE))\n",
        "        X_test.append(np.array(image))\n",
        "        y_test.append(0)\n",
        "\n",
        "print(len(X_test))\n",
        "print(len(y_test))"
      ],
      "metadata": {
        "id": "VPvbLVVEkWew"
      },
      "execution_count": null,
      "outputs": []
    },
    {
      "cell_type": "code",
      "source": [
        "def se_block(input_tensor, reduction_ratio=16):\n",
        "    \"\"\"\n",
        "    Squeeze-and-Excitation block implementation.\n",
        "\n",
        "    Args:\n",
        "        input_tensor: Input tensor to the SE block.\n",
        "        reduction_ratio: Reduction ratio for the number of parameters in the SE block.\n",
        "                         It controls the number of parameters used in the bottleneck layer.\n",
        "\n",
        "    Returns:\n",
        "        Output tensor after applying the SE block.\n",
        "    \"\"\"\n",
        "    channels = input_tensor.shape[-1]\n",
        "\n",
        "    # Squeeze operation: Global Average Pooling\n",
        "    squeeze = tf.keras.layers.GlobalAveragePooling2D()(input_tensor)\n",
        "\n",
        "    # Excitation: Fully connected layers\n",
        "    excitation = tf.keras.layers.Dense(channels // reduction_ratio, activation='relu')(squeeze)\n",
        "    excitation = tf.keras.layers.Dense(channels, activation='sigmoid')(excitation)\n",
        "\n",
        "    # Reshape to match the shape of the input tensor\n",
        "    excitation = tf.keras.layers.Reshape((1, 1, channels))(excitation)\n",
        "\n",
        "    # Scale the input tensor by the excitation signal\n",
        "    scaled_input = input_tensor * excitation\n",
        "\n",
        "    return scaled_input"
      ],
      "metadata": {
        "id": "5aJ_B5atkZTh"
      },
      "execution_count": null,
      "outputs": []
    },
    {
      "cell_type": "code",
      "source": [
        "macroscopic_model_nosq = tf.keras.models.load_model('/content/drive/MyDrive/SugataSaptarshi/Oral Cancer macroscopic/macroscopicnasnetnosq (1).keras')\n"
      ],
      "metadata": {
        "id": "yDrHW5HjkddS"
      },
      "execution_count": null,
      "outputs": []
    },
    {
      "cell_type": "code",
      "source": [
        "modelsq.evaluate(np.array(X_test), to_categorical(np.array(y_test)))"
      ],
      "metadata": {
        "id": "V6XdJ0qIltUE"
      },
      "execution_count": null,
      "outputs": []
    },
    {
      "cell_type": "code",
      "source": [
        "modelnosq = tf.keras.models.load_model('/content/drive/MyDrive/SugataSaptarshi/ORCC histopathology/NasNetMobile/models/nasnet.keras')\n"
      ],
      "metadata": {
        "id": "VQxK2EChmQsS"
      },
      "execution_count": null,
      "outputs": []
    },
    {
      "cell_type": "code",
      "source": [
        "modelnosq.evaluate(np.array(X_test), to_categorical(np.array(y_test)))"
      ],
      "metadata": {
        "id": "Lm-RFXD9mafv"
      },
      "execution_count": null,
      "outputs": []
    },
    {
      "cell_type": "code",
      "source": [
        "modelsq.summary()"
      ],
      "metadata": {
        "id": "aus1jqv34X88"
      },
      "execution_count": null,
      "outputs": []
    },
    {
      "cell_type": "code",
      "source": [
        "modelnosq.summary()"
      ],
      "metadata": {
        "id": "QiEB8EkkBpHu"
      },
      "execution_count": null,
      "outputs": []
    }
  ]
}